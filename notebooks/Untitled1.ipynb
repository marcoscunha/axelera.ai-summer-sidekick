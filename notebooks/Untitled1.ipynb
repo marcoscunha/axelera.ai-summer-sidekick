{
 "cells": [
  {
   "cell_type": "code",
   "execution_count": 3,
   "id": "95d06531-5989-4bb8-b749-1bea3118e1e3",
   "metadata": {},
   "outputs": [
    {
     "name": "stdout",
     "output_type": "stream",
     "text": [
      "\n",
      "0: 640x384 2 suitcases, 4.2ms\n",
      "Speed: 1.4ms preprocess, 4.2ms inference, 0.9ms postprocess per image at shape (1, 3, 640, 384)\n"
     ]
    },
    {
     "data": {
      "text/plain": [
       "'./dataset/PXL_20250625_124950441_classified.jpg'"
      ]
     },
     "execution_count": 3,
     "metadata": {},
     "output_type": "execute_result"
    },
    {
     "name": "stderr",
     "output_type": "stream",
     "text": [
      "\n",
      "(eog:166393): Handy-WARNING **: 16:24:38.626: Using GtkSettings:gtk-application-prefer-dark-theme together with HdyStyleManager is unsupported. Please use HdyStyleManager:color-scheme instead.\n"
     ]
    }
   ],
   "source": [
    "from ultralytics import YOLO\n",
    "import cv2\n",
    "\n",
    "# Load the YOLO model\n",
    "model = YOLO('yolov8n.pt')  # You can choose a different version if needed\n",
    "\n",
    "# Load the image\n",
    "# image_path = '../dataset/water_level/PXL_20250625_124950441.jpg'\n",
    "image_path = '../dataset/water_level/PXL_20250625_124932449.jpg'\n",
    "\n",
    "image = cv2.imread(image_path)\n",
    "\n",
    "# Perform object detection\n",
    "results = model(image)\n",
    "\n",
    "# Display the results\n",
    "results[0].show()\n",
    "\n",
    "# Optionally, save the results\n",
    "output_path = './dataset/PXL_20250625_124950441_classified.jpg'\n",
    "results[0].save(output_path)\n"
   ]
  },
  {
   "cell_type": "code",
   "execution_count": null,
   "id": "4584f234-410d-4273-b516-04a14d342a89",
   "metadata": {},
   "outputs": [],
   "source": []
  }
 ],
 "metadata": {
  "kernelspec": {
   "display_name": "Python 3 (ipykernel)",
   "language": "python",
   "name": "python3"
  },
  "language_info": {
   "codemirror_mode": {
    "name": "ipython",
    "version": 3
   },
   "file_extension": ".py",
   "mimetype": "text/x-python",
   "name": "python",
   "nbconvert_exporter": "python",
   "pygments_lexer": "ipython3",
   "version": "3.13.3"
  }
 },
 "nbformat": 4,
 "nbformat_minor": 5
}
